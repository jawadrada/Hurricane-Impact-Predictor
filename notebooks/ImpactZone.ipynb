{
 "cells": [
  {
   "cell_type": "code",
   "execution_count": 14,
   "metadata": {},
   "outputs": [],
   "source": [
    "import pandas as pd\n",
    "from shapely.geometry import Point\n",
    "from shapely.geometry.polygon import Polygon\n",
    "from shapely.ops import unary_union\n",
    "from geopy.distance import geodesic\n",
    "import geopandas as gpd"
   ]
  },
  {
   "cell_type": "code",
   "execution_count": 15,
   "metadata": {},
   "outputs": [],
   "source": [
    "filename = ('./data/vessel_hurricane.csv')\n",
    "vessel_df = pd.read_csv(filename)"
   ]
  },
  {
   "cell_type": "code",
   "execution_count": 16,
   "metadata": {},
   "outputs": [
    {
     "data": {
      "text/html": [
       "<div>\n",
       "<style scoped>\n",
       "    .dataframe tbody tr th:only-of-type {\n",
       "        vertical-align: middle;\n",
       "    }\n",
       "\n",
       "    .dataframe tbody tr th {\n",
       "        vertical-align: top;\n",
       "    }\n",
       "\n",
       "    .dataframe thead th {\n",
       "        text-align: right;\n",
       "    }\n",
       "</style>\n",
       "<table border=\"1\" class=\"dataframe\">\n",
       "  <thead>\n",
       "    <tr style=\"text-align: right;\">\n",
       "      <th></th>\n",
       "      <th>MMSI</th>\n",
       "      <th>BaseDateTime</th>\n",
       "      <th>LAT</th>\n",
       "      <th>LON</th>\n",
       "      <th>SOG</th>\n",
       "      <th>COG</th>\n",
       "      <th>Heading</th>\n",
       "      <th>VesselName</th>\n",
       "      <th>IMO</th>\n",
       "      <th>CallSign</th>\n",
       "      <th>...</th>\n",
       "      <th>50-knot Wind Radii NE</th>\n",
       "      <th>50-knot Wind Radii SE</th>\n",
       "      <th>50-knot Wind Radii SW</th>\n",
       "      <th>50-knot Wind Radii NW</th>\n",
       "      <th>64-knot Wind Radii NE</th>\n",
       "      <th>64-knot Wind Radii SE</th>\n",
       "      <th>64-knot Wind Radii SW</th>\n",
       "      <th>64-knot Wind Radii NW</th>\n",
       "      <th>Speed mph</th>\n",
       "      <th>hurricane_datetime</th>\n",
       "    </tr>\n",
       "  </thead>\n",
       "  <tbody>\n",
       "    <tr>\n",
       "      <th>0</th>\n",
       "      <td>636093156</td>\n",
       "      <td>2023-08-29 00:00:00</td>\n",
       "      <td>25.89899</td>\n",
       "      <td>-79.79531</td>\n",
       "      <td>15.5</td>\n",
       "      <td>60.7</td>\n",
       "      <td>70.0</td>\n",
       "      <td>BREMEN EXPRESS</td>\n",
       "      <td>IMO9343728</td>\n",
       "      <td>5LJY8</td>\n",
       "      <td>...</td>\n",
       "      <td>0.0</td>\n",
       "      <td>0.0</td>\n",
       "      <td>0.0</td>\n",
       "      <td>0.0</td>\n",
       "      <td>0.0</td>\n",
       "      <td>0.0</td>\n",
       "      <td>0.0</td>\n",
       "      <td>0.0</td>\n",
       "      <td>8.339218</td>\n",
       "      <td>2023-08-29 00:00:00</td>\n",
       "    </tr>\n",
       "    <tr>\n",
       "      <th>1</th>\n",
       "      <td>636093156</td>\n",
       "      <td>2023-08-29 00:00:00</td>\n",
       "      <td>25.89899</td>\n",
       "      <td>-79.79531</td>\n",
       "      <td>15.5</td>\n",
       "      <td>60.7</td>\n",
       "      <td>70.0</td>\n",
       "      <td>BREMEN EXPRESS</td>\n",
       "      <td>IMO9343728</td>\n",
       "      <td>5LJY8</td>\n",
       "      <td>...</td>\n",
       "      <td>70.0</td>\n",
       "      <td>40.0</td>\n",
       "      <td>40.0</td>\n",
       "      <td>40.0</td>\n",
       "      <td>30.0</td>\n",
       "      <td>25.0</td>\n",
       "      <td>20.0</td>\n",
       "      <td>20.0</td>\n",
       "      <td>8.060978</td>\n",
       "      <td>2023-08-29 00:00:00</td>\n",
       "    </tr>\n",
       "    <tr>\n",
       "      <th>2</th>\n",
       "      <td>636093156</td>\n",
       "      <td>2023-08-29 00:00:00</td>\n",
       "      <td>25.89899</td>\n",
       "      <td>-79.79531</td>\n",
       "      <td>15.5</td>\n",
       "      <td>60.7</td>\n",
       "      <td>70.0</td>\n",
       "      <td>BREMEN EXPRESS</td>\n",
       "      <td>IMO9343728</td>\n",
       "      <td>5LJY8</td>\n",
       "      <td>...</td>\n",
       "      <td>30.0</td>\n",
       "      <td>40.0</td>\n",
       "      <td>20.0</td>\n",
       "      <td>20.0</td>\n",
       "      <td>0.0</td>\n",
       "      <td>0.0</td>\n",
       "      <td>0.0</td>\n",
       "      <td>0.0</td>\n",
       "      <td>6.991989</td>\n",
       "      <td>2023-08-29 00:00:00</td>\n",
       "    </tr>\n",
       "    <tr>\n",
       "      <th>3</th>\n",
       "      <td>636093156</td>\n",
       "      <td>2023-08-29 00:00:00</td>\n",
       "      <td>25.89899</td>\n",
       "      <td>-79.79531</td>\n",
       "      <td>15.5</td>\n",
       "      <td>60.7</td>\n",
       "      <td>70.0</td>\n",
       "      <td>BREMEN EXPRESS</td>\n",
       "      <td>IMO9343728</td>\n",
       "      <td>5LJY8</td>\n",
       "      <td>...</td>\n",
       "      <td>0.0</td>\n",
       "      <td>0.0</td>\n",
       "      <td>0.0</td>\n",
       "      <td>0.0</td>\n",
       "      <td>0.0</td>\n",
       "      <td>0.0</td>\n",
       "      <td>0.0</td>\n",
       "      <td>0.0</td>\n",
       "      <td>11.784165</td>\n",
       "      <td>2023-08-29 00:00:00</td>\n",
       "    </tr>\n",
       "    <tr>\n",
       "      <th>4</th>\n",
       "      <td>477948800</td>\n",
       "      <td>2023-08-29 00:00:00</td>\n",
       "      <td>40.58595</td>\n",
       "      <td>-74.03638</td>\n",
       "      <td>10.5</td>\n",
       "      <td>343.4</td>\n",
       "      <td>343.0</td>\n",
       "      <td>YM WARMTH</td>\n",
       "      <td>IMO9704647</td>\n",
       "      <td>VROO5</td>\n",
       "      <td>...</td>\n",
       "      <td>0.0</td>\n",
       "      <td>0.0</td>\n",
       "      <td>0.0</td>\n",
       "      <td>0.0</td>\n",
       "      <td>0.0</td>\n",
       "      <td>0.0</td>\n",
       "      <td>0.0</td>\n",
       "      <td>0.0</td>\n",
       "      <td>8.339218</td>\n",
       "      <td>2023-08-29 00:00:00</td>\n",
       "    </tr>\n",
       "  </tbody>\n",
       "</table>\n",
       "<p>5 rows × 41 columns</p>\n",
       "</div>"
      ],
      "text/plain": [
       "        MMSI         BaseDateTime       LAT       LON   SOG    COG  Heading  \\\n",
       "0  636093156  2023-08-29 00:00:00  25.89899 -79.79531  15.5   60.7     70.0   \n",
       "1  636093156  2023-08-29 00:00:00  25.89899 -79.79531  15.5   60.7     70.0   \n",
       "2  636093156  2023-08-29 00:00:00  25.89899 -79.79531  15.5   60.7     70.0   \n",
       "3  636093156  2023-08-29 00:00:00  25.89899 -79.79531  15.5   60.7     70.0   \n",
       "4  477948800  2023-08-29 00:00:00  40.58595 -74.03638  10.5  343.4    343.0   \n",
       "\n",
       "       VesselName         IMO CallSign  ...  50-knot Wind Radii NE  \\\n",
       "0  BREMEN EXPRESS  IMO9343728    5LJY8  ...                    0.0   \n",
       "1  BREMEN EXPRESS  IMO9343728    5LJY8  ...                   70.0   \n",
       "2  BREMEN EXPRESS  IMO9343728    5LJY8  ...                   30.0   \n",
       "3  BREMEN EXPRESS  IMO9343728    5LJY8  ...                    0.0   \n",
       "4       YM WARMTH  IMO9704647    VROO5  ...                    0.0   \n",
       "\n",
       "   50-knot Wind Radii SE  50-knot Wind Radii SW  50-knot Wind Radii NW  \\\n",
       "0                    0.0                    0.0                    0.0   \n",
       "1                   40.0                   40.0                   40.0   \n",
       "2                   40.0                   20.0                   20.0   \n",
       "3                    0.0                    0.0                    0.0   \n",
       "4                    0.0                    0.0                    0.0   \n",
       "\n",
       "   64-knot Wind Radii NE  64-knot Wind Radii SE 64-knot Wind Radii SW  \\\n",
       "0                    0.0                    0.0                   0.0   \n",
       "1                   30.0                   25.0                  20.0   \n",
       "2                    0.0                    0.0                   0.0   \n",
       "3                    0.0                    0.0                   0.0   \n",
       "4                    0.0                    0.0                   0.0   \n",
       "\n",
       "  64-knot Wind Radii NW  Speed mph   hurricane_datetime  \n",
       "0                   0.0   8.339218  2023-08-29 00:00:00  \n",
       "1                  20.0   8.060978  2023-08-29 00:00:00  \n",
       "2                   0.0   6.991989  2023-08-29 00:00:00  \n",
       "3                   0.0  11.784165  2023-08-29 00:00:00  \n",
       "4                   0.0   8.339218  2023-08-29 00:00:00  \n",
       "\n",
       "[5 rows x 41 columns]"
      ]
     },
     "execution_count": 16,
     "metadata": {},
     "output_type": "execute_result"
    }
   ],
   "source": [
    "vessel_df.head()"
   ]
  },
  {
   "cell_type": "code",
   "execution_count": 17,
   "metadata": {},
   "outputs": [],
   "source": [
    "vessel_df['Date_only'] = pd.to_datetime(vessel_df['BaseDateTime'], errors='coerce')"
   ]
  },
  {
   "cell_type": "code",
   "execution_count": 18,
   "metadata": {},
   "outputs": [
    {
     "data": {
      "text/plain": [
       "Index(['MMSI', 'BaseDateTime', 'LAT', 'LON', 'SOG', 'COG', 'Heading',\n",
       "       'VesselName', 'IMO', 'CallSign', 'VesselType', 'Status', 'Length',\n",
       "       'Width', 'Draft', 'Cargo', 'TransceiverClass', 'Name', 'Num Entries',\n",
       "       'Year', 'Time', 'Record Identifier', 'Status of System', 'Latitude',\n",
       "       'Longitude', 'Maximum Sustained Wind', 'Minimum Pressure',\n",
       "       '34-knot Wind Radii NE', '34-knot Wind Radii SE',\n",
       "       '34-knot Wind Radii SW', '34-knot Wind Radii NW',\n",
       "       '50-knot Wind Radii NE', '50-knot Wind Radii SE',\n",
       "       '50-knot Wind Radii SW', '50-knot Wind Radii NW',\n",
       "       '64-knot Wind Radii NE', '64-knot Wind Radii SE',\n",
       "       '64-knot Wind Radii SW', '64-knot Wind Radii NW', 'Speed mph',\n",
       "       'hurricane_datetime', 'Date_only'],\n",
       "      dtype='object')"
      ]
     },
     "execution_count": 18,
     "metadata": {},
     "output_type": "execute_result"
    }
   ],
   "source": [
    "vessel_df.columns"
   ]
  },
  {
   "cell_type": "code",
   "execution_count": 19,
   "metadata": {},
   "outputs": [
    {
     "name": "stdout",
     "output_type": "stream",
     "text": [
      "[28.8, -56.4]\n"
     ]
    }
   ],
   "source": [
    "def convert_to_decimal_degrees(coord_str):\n",
    "    \n",
    "    if pd.isna(coord_str) or not isinstance(coord_str, str):\n",
    "        return None\n",
    "    \n",
    "    try:\n",
    "        value, direction = coord_str[:-1], coord_str[-1]\n",
    "        value = float(value)\n",
    "        if direction in ['S', 'W']:\n",
    "            value = -value\n",
    "        return value\n",
    "    except ValueError:\n",
    "        return None\n",
    "    \n",
    "\n",
    "# sample/testing\n",
    "sample_coords = ['28.8N', '56.4W']\n",
    "print([convert_to_decimal_degrees(coord) for coord in sample_coords])"
   ]
  },
  {
   "cell_type": "code",
   "execution_count": 20,
   "metadata": {},
   "outputs": [],
   "source": [
    "vessel_df['Latitude'] = vessel_df['Latitude'].apply(convert_to_decimal_degrees)\n",
    "vessel_df['Longitude'] = vessel_df['Longitude'].apply(convert_to_decimal_degrees)"
   ]
  },
  {
   "cell_type": "code",
   "execution_count": 21,
   "metadata": {},
   "outputs": [],
   "source": [
    "def identify_impacted_vessels(vessel_df):\n",
    "    '''\n",
    "    This function first maps hurricanes to a radius in kilometers determined by the max_wind_speed column. The radius are determined by the Saffir-Simpson Scale. \n",
    "    https://en.wikipedia.org/wiki/Saffir%E2%80%93Simpson_scale\n",
    "    A category does not have a fixed diameter or size, so I used PerplexityAi to give me\n",
    "    adequate measurement for each category.\n",
    "    Still, the size of hurricanes varies dramatically. The effect of hurricanes on ports\n",
    "    and ships would more depend on its wind speed. Currently, the function is only testing on whether \n",
    "    the vessel is in the radius that I have set, which assumes the hurricanes diameter,-\n",
    "    not if it is damaged. \n",
    "    \n",
    "    '''\n",
    "\n",
    "    def calculate_radius(max_wind_speed):\n",
    "        if max_wind_speed >= 137:  \n",
    "            return 161  # Radius in kilometers for Category 5 hurricanes\n",
    "        elif max_wind_speed >= 113:  \n",
    "            return 161  # Radius in kilometers for Category 4 hurricanes\n",
    "        elif max_wind_speed >= 96:  \n",
    "            return 161  # Radius in kilometers for Category 3 hurricanes\n",
    "        elif max_wind_speed >= 83:  \n",
    "            return 100  # Radius in kilometers for Category 2 hurricanes\n",
    "        elif max_wind_speed >= 64:  \n",
    "            return 100  # Radius in kilometers for Category 1 hurricanes\n",
    "        elif max_wind_speed >= 34:\n",
    "            return 50\n",
    "        else:\n",
    "            return 0  \n",
    "    \n",
    "    vessel_df['impacted'] = False  \n",
    "\n",
    "    #Processed_timestamps is to make sure that we only iterate through the hurricane_datetime once in the for loop\n",
    "\n",
    "    processed_timestamps = set()\n",
    "\n",
    "    print(vessel_df[['Latitude', 'Longitude']].head())\n",
    "\n",
    "    for idx, hurricane in vessel_df.iterrows():\n",
    "        hurricane_lat = hurricane['Latitude']\n",
    "        hurricane_lon = hurricane['Longitude']\n",
    "        hurricane_time = hurricane['hurricane_datetime']\n",
    "        max_wind_speed = hurricane['Maximum Sustained Wind'] \n",
    "\n",
    "        if pd.isna(hurricane_lat) or pd.isna(hurricane_lon) or pd.isna(max_wind_speed):\n",
    "            continue \n",
    "        if hurricane_time in processed_timestamps:\n",
    "            continue\n",
    "        processed_timestamps.add(hurricane_time)\n",
    "\n",
    "        impact_radius = calculate_radius(max_wind_speed)\n",
    "        if impact_radius == 0:\n",
    "            continue  \n",
    "\n",
    "        hurricane_point = Point(hurricane_lon, hurricane_lat)\n",
    "\n",
    "        matching_vessels = vessel_df[vessel_df['BaseDateTime'] == hurricane_time]\n",
    "        \n",
    "        if matching_vessels.empty:\n",
    "            # print(matching_vessels)\n",
    "            print(f\"No vessels found for hurricane time: {hurricane_time}\")\n",
    "            continue\n",
    "        \n",
    "        print(f\"{len(matching_vessels)} vessels found for hurricane at {hurricane_time}\")\n",
    "\n",
    "\n",
    "        for v_idx, vessel in matching_vessels.iterrows():\n",
    "            vessel_lat = vessel['LAT']\n",
    "            vessel_lon = vessel['LON']\n",
    "            \n",
    "            if pd.isna(vessel_lat) or pd.isna(vessel_lon):\n",
    "                continue  \n",
    "\n",
    "            distance = geodesic((vessel_lat, vessel_lon), (hurricane_lat, hurricane_lon)).kilometers\n",
    "\n",
    "            print(f\"Vessel at ({vessel_lat}, {vessel_lon}) - Distance: {distance:.2f} km from hurricane on {hurricane_time}\")\n",
    "\n",
    "            if distance <= impact_radius:\n",
    "                # Mark the vessel as impacted\n",
    "                vessel_df.at[v_idx, 'impacted'] = True\n",
    "                vessel_id = vessel.get('vessel_id', 'Unknown ID')\n",
    "                print(f\"Vessel {vessel_id} is impacted.\")\n",
    "\n",
    "    return vessel_df  "
   ]
  },
  {
   "cell_type": "code",
   "execution_count": 22,
   "metadata": {},
   "outputs": [],
   "source": [
    "def process_weeks_with_impact(vessel_df):\n",
    "    start_date = '2022-08-01' \n",
    "    end_date = '2023-09-30'\n",
    "\n",
    "    # storing the results of each week\n",
    "    all_weeks_data = []\n",
    "\n",
    "    # Iterate week by week\n",
    "    for week_start in pd.date_range(start=start_date, end=end_date, freq='W-MON'):\n",
    "        week_end = week_start + pd.Timedelta(days=6)\n",
    "\n",
    "        # Filter the dataset for the current week (using only the date part)\n",
    "        vessel_week = vessel_df[(vessel_df['Date_only'] >= week_start) & (vessel_df['Date_only'] <= week_end)]\n",
    "        \n",
    "        # Process the hurricane and vessel data for this week\n",
    "        if not vessel_week.empty:\n",
    "            print(f\"Processing week starting {week_start.date()} with hurricanes and {len(vessel_week)} vessels\")\n",
    "            \n",
    "            impacted_vessels_week = identify_impacted_vessels(vessel_week)\n",
    "\n",
    "            # Append the impacted vessel data for this week to the list\n",
    "            all_weeks_data.append(impacted_vessels_week)\n",
    "\n",
    "    # Concatenate all processed week data into a single DataFrame\n",
    "    final_df = pd.concat(all_weeks_data, ignore_index=True)\n",
    "\n",
    "    return final_df"
   ]
  },
  {
   "cell_type": "code",
   "execution_count": 23,
   "metadata": {},
   "outputs": [
    {
     "name": "stdout",
     "output_type": "stream",
     "text": [
      "Processing week starting 2022-08-29 with hurricanes and 2077 vessels\n",
      "      Latitude Longitude\n",
      "44389     None      None\n",
      "44390     None      None\n",
      "44391     None      None\n",
      "44392     None      None\n",
      "44393     None      None\n",
      "Processing week starting 2022-09-05 with hurricanes and 5148 vessels\n",
      "      Latitude Longitude\n",
      "47126     None      None\n",
      "47127     None      None\n",
      "47128     None      None\n",
      "47129     None      None\n",
      "47130     None      None\n"
     ]
    },
    {
     "name": "stderr",
     "output_type": "stream",
     "text": [
      "/var/folders/bf/zbss70kn2fq_0xbjk976nwx80000gn/T/ipykernel_36772/2272647759.py:30: SettingWithCopyWarning: \n",
      "A value is trying to be set on a copy of a slice from a DataFrame.\n",
      "Try using .loc[row_indexer,col_indexer] = value instead\n",
      "\n",
      "See the caveats in the documentation: https://pandas.pydata.org/pandas-docs/stable/user_guide/indexing.html#returning-a-view-versus-a-copy\n",
      "  vessel_df['impacted'] = False\n",
      "/var/folders/bf/zbss70kn2fq_0xbjk976nwx80000gn/T/ipykernel_36772/2272647759.py:30: SettingWithCopyWarning: \n",
      "A value is trying to be set on a copy of a slice from a DataFrame.\n",
      "Try using .loc[row_indexer,col_indexer] = value instead\n",
      "\n",
      "See the caveats in the documentation: https://pandas.pydata.org/pandas-docs/stable/user_guide/indexing.html#returning-a-view-versus-a-copy\n",
      "  vessel_df['impacted'] = False\n"
     ]
    },
    {
     "name": "stdout",
     "output_type": "stream",
     "text": [
      "Processing week starting 2022-09-12 with hurricanes and 4444 vessels\n",
      "      Latitude Longitude\n",
      "52886     None      None\n",
      "52887     None      None\n",
      "52888     None      None\n",
      "52889     None      None\n",
      "52890     None      None\n"
     ]
    },
    {
     "name": "stderr",
     "output_type": "stream",
     "text": [
      "/var/folders/bf/zbss70kn2fq_0xbjk976nwx80000gn/T/ipykernel_36772/2272647759.py:30: SettingWithCopyWarning: \n",
      "A value is trying to be set on a copy of a slice from a DataFrame.\n",
      "Try using .loc[row_indexer,col_indexer] = value instead\n",
      "\n",
      "See the caveats in the documentation: https://pandas.pydata.org/pandas-docs/stable/user_guide/indexing.html#returning-a-view-versus-a-copy\n",
      "  vessel_df['impacted'] = False\n"
     ]
    },
    {
     "name": "stdout",
     "output_type": "stream",
     "text": [
      "Processing week starting 2022-09-19 with hurricanes and 7378 vessels\n",
      "      Latitude Longitude\n",
      "57630     None      None\n",
      "57631     None      None\n",
      "57632     None      None\n",
      "57633     None      None\n",
      "57634     None      None\n"
     ]
    },
    {
     "name": "stderr",
     "output_type": "stream",
     "text": [
      "/var/folders/bf/zbss70kn2fq_0xbjk976nwx80000gn/T/ipykernel_36772/2272647759.py:30: SettingWithCopyWarning: \n",
      "A value is trying to be set on a copy of a slice from a DataFrame.\n",
      "Try using .loc[row_indexer,col_indexer] = value instead\n",
      "\n",
      "See the caveats in the documentation: https://pandas.pydata.org/pandas-docs/stable/user_guide/indexing.html#returning-a-view-versus-a-copy\n",
      "  vessel_df['impacted'] = False\n"
     ]
    },
    {
     "name": "stdout",
     "output_type": "stream",
     "text": [
      "Processing week starting 2022-09-26 with hurricanes and 4413 vessels\n",
      "      Latitude Longitude\n",
      "66260     None      None\n",
      "66261     None      None\n",
      "66262     None      None\n",
      "66263     None      None\n",
      "66264     None      None\n"
     ]
    },
    {
     "name": "stderr",
     "output_type": "stream",
     "text": [
      "/var/folders/bf/zbss70kn2fq_0xbjk976nwx80000gn/T/ipykernel_36772/2272647759.py:30: SettingWithCopyWarning: \n",
      "A value is trying to be set on a copy of a slice from a DataFrame.\n",
      "Try using .loc[row_indexer,col_indexer] = value instead\n",
      "\n",
      "See the caveats in the documentation: https://pandas.pydata.org/pandas-docs/stable/user_guide/indexing.html#returning-a-view-versus-a-copy\n",
      "  vessel_df['impacted'] = False\n"
     ]
    },
    {
     "name": "stdout",
     "output_type": "stream",
     "text": [
      "Processing week starting 2023-08-14 with hurricanes and 1140 vessels\n",
      "     Latitude Longitude\n",
      "2208     None      None\n",
      "2209     None      None\n",
      "2210     None      None\n",
      "2211     None      None\n",
      "2212     None      None\n",
      "Processing week starting 2023-08-21 with hurricanes and 6689 vessels\n",
      "     Latitude Longitude\n",
      "3186     None      None\n",
      "3187     None      None\n",
      "3188     None      None\n",
      "3189     None      None\n",
      "3190     None      None\n"
     ]
    },
    {
     "name": "stderr",
     "output_type": "stream",
     "text": [
      "/var/folders/bf/zbss70kn2fq_0xbjk976nwx80000gn/T/ipykernel_36772/2272647759.py:30: SettingWithCopyWarning: \n",
      "A value is trying to be set on a copy of a slice from a DataFrame.\n",
      "Try using .loc[row_indexer,col_indexer] = value instead\n",
      "\n",
      "See the caveats in the documentation: https://pandas.pydata.org/pandas-docs/stable/user_guide/indexing.html#returning-a-view-versus-a-copy\n",
      "  vessel_df['impacted'] = False\n",
      "/var/folders/bf/zbss70kn2fq_0xbjk976nwx80000gn/T/ipykernel_36772/2272647759.py:30: SettingWithCopyWarning: \n",
      "A value is trying to be set on a copy of a slice from a DataFrame.\n",
      "Try using .loc[row_indexer,col_indexer] = value instead\n",
      "\n",
      "See the caveats in the documentation: https://pandas.pydata.org/pandas-docs/stable/user_guide/indexing.html#returning-a-view-versus-a-copy\n",
      "  vessel_df['impacted'] = False\n"
     ]
    },
    {
     "name": "stdout",
     "output_type": "stream",
     "text": [
      "Processing week starting 2023-08-28 with hurricanes and 8832 vessels\n",
      "  Latitude Longitude\n",
      "0     None      None\n",
      "1     None      None\n",
      "2     None      None\n",
      "3     None      None\n",
      "4     None      None\n"
     ]
    },
    {
     "name": "stderr",
     "output_type": "stream",
     "text": [
      "/var/folders/bf/zbss70kn2fq_0xbjk976nwx80000gn/T/ipykernel_36772/2272647759.py:30: SettingWithCopyWarning: \n",
      "A value is trying to be set on a copy of a slice from a DataFrame.\n",
      "Try using .loc[row_indexer,col_indexer] = value instead\n",
      "\n",
      "See the caveats in the documentation: https://pandas.pydata.org/pandas-docs/stable/user_guide/indexing.html#returning-a-view-versus-a-copy\n",
      "  vessel_df['impacted'] = False\n"
     ]
    },
    {
     "name": "stdout",
     "output_type": "stream",
     "text": [
      "Processing week starting 2023-09-04 with hurricanes and 9782 vessels\n",
      "      Latitude Longitude\n",
      "16465     None      None\n",
      "16466     None      None\n",
      "16467     None      None\n",
      "16468     None      None\n",
      "16469     None      None\n"
     ]
    },
    {
     "name": "stderr",
     "output_type": "stream",
     "text": [
      "/var/folders/bf/zbss70kn2fq_0xbjk976nwx80000gn/T/ipykernel_36772/2272647759.py:30: SettingWithCopyWarning: \n",
      "A value is trying to be set on a copy of a slice from a DataFrame.\n",
      "Try using .loc[row_indexer,col_indexer] = value instead\n",
      "\n",
      "See the caveats in the documentation: https://pandas.pydata.org/pandas-docs/stable/user_guide/indexing.html#returning-a-view-versus-a-copy\n",
      "  vessel_df['impacted'] = False\n"
     ]
    },
    {
     "name": "stdout",
     "output_type": "stream",
     "text": [
      "Processing week starting 2023-09-11 with hurricanes and 6551 vessels\n",
      "      Latitude Longitude\n",
      "25789     None      None\n",
      "25790     None      None\n",
      "25791     None      None\n",
      "25792     None      None\n",
      "25793     None      None\n"
     ]
    },
    {
     "name": "stderr",
     "output_type": "stream",
     "text": [
      "/var/folders/bf/zbss70kn2fq_0xbjk976nwx80000gn/T/ipykernel_36772/2272647759.py:30: SettingWithCopyWarning: \n",
      "A value is trying to be set on a copy of a slice from a DataFrame.\n",
      "Try using .loc[row_indexer,col_indexer] = value instead\n",
      "\n",
      "See the caveats in the documentation: https://pandas.pydata.org/pandas-docs/stable/user_guide/indexing.html#returning-a-view-versus-a-copy\n",
      "  vessel_df['impacted'] = False\n"
     ]
    },
    {
     "name": "stdout",
     "output_type": "stream",
     "text": [
      "Processing week starting 2023-09-18 with hurricanes and 3823 vessels\n",
      "      Latitude Longitude\n",
      "14827     None      None\n",
      "14828     None      None\n",
      "14829     None      None\n",
      "14830     None      None\n",
      "14831     None      None\n"
     ]
    },
    {
     "name": "stderr",
     "output_type": "stream",
     "text": [
      "/var/folders/bf/zbss70kn2fq_0xbjk976nwx80000gn/T/ipykernel_36772/2272647759.py:30: SettingWithCopyWarning: \n",
      "A value is trying to be set on a copy of a slice from a DataFrame.\n",
      "Try using .loc[row_indexer,col_indexer] = value instead\n",
      "\n",
      "See the caveats in the documentation: https://pandas.pydata.org/pandas-docs/stable/user_guide/indexing.html#returning-a-view-versus-a-copy\n",
      "  vessel_df['impacted'] = False\n"
     ]
    },
    {
     "name": "stdout",
     "output_type": "stream",
     "text": [
      "Processing week starting 2023-09-25 with hurricanes and 3760 vessels\n",
      "      Latitude Longitude\n",
      "20469     None      None\n",
      "20470     None      None\n",
      "20471     None      None\n",
      "20472     None      None\n",
      "20473     None      None\n"
     ]
    },
    {
     "name": "stderr",
     "output_type": "stream",
     "text": [
      "/var/folders/bf/zbss70kn2fq_0xbjk976nwx80000gn/T/ipykernel_36772/2272647759.py:30: SettingWithCopyWarning: \n",
      "A value is trying to be set on a copy of a slice from a DataFrame.\n",
      "Try using .loc[row_indexer,col_indexer] = value instead\n",
      "\n",
      "See the caveats in the documentation: https://pandas.pydata.org/pandas-docs/stable/user_guide/indexing.html#returning-a-view-versus-a-copy\n",
      "  vessel_df['impacted'] = False\n"
     ]
    }
   ],
   "source": [
    "processed_vessel_df = process_weeks_with_impact(vessel_df)"
   ]
  },
  {
   "cell_type": "code",
   "execution_count": 24,
   "metadata": {},
   "outputs": [
    {
     "data": {
      "text/plain": [
       "array([False])"
      ]
     },
     "execution_count": 24,
     "metadata": {},
     "output_type": "execute_result"
    }
   ],
   "source": [
    "processed_vessel_df['impacted'].unique()"
   ]
  }
 ],
 "metadata": {
  "kernelspec": {
   "display_name": "Python 3",
   "language": "python",
   "name": "python3"
  },
  "language_info": {
   "codemirror_mode": {
    "name": "ipython",
    "version": 3
   },
   "file_extension": ".py",
   "mimetype": "text/x-python",
   "name": "python",
   "nbconvert_exporter": "python",
   "pygments_lexer": "ipython3",
   "version": "3.12.0"
  }
 },
 "nbformat": 4,
 "nbformat_minor": 2
}
